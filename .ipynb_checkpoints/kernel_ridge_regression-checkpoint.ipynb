{
 "cells": [
  {
   "cell_type": "code",
   "execution_count": null,
   "metadata": {},
   "outputs": [],
   "source": [
    "! git clone https://github.com/qmlcode/tutorial.git"
   ]
  },
  {
   "cell_type": "code",
   "execution_count": null,
   "metadata": {},
   "outputs": [],
   "source": [
    "%config IPCompleter.greedy=True"
   ]
  },
  {
   "cell_type": "code",
   "execution_count": 2,
   "metadata": {},
   "outputs": [
    {
     "name": "stdout",
     "output_type": "stream",
     "text": [
      "/home/jan/projects/qmlnet/tutorial\n",
      "exercise_2_1.py  exercise_2_4.py  modelnew.h5  QML_Tutorial.ipynb\n",
      "exercise_2_2.py  hof_qm7.txt\t  __pycache__  QML_Tutorial_sklearn.ipynb\n",
      "exercise_2_3.py  LICENSE\t  qm7\t       tutorial_data.py\n"
     ]
    }
   ],
   "source": [
    "%cd tutorial\n",
    "! ls"
   ]
  },
  {
   "cell_type": "code",
   "execution_count": 3,
   "metadata": {},
   "outputs": [
    {
     "name": "stdout",
     "output_type": "stream",
     "text": [
      "[-1633.28 -1212.67 -1531.73 ... -1728.7  -1506.76 -1866.88]\n",
      "[[1.         0.8152882  0.87350271 ... 0.90991951 0.82913994 0.77672171]\n",
      " [0.8152882  1.         0.81460855 ... 0.84226491 0.97323939 0.78838225]\n",
      " [0.87350271 0.81460855 1.         ... 0.8913725  0.83339596 0.78083487]\n",
      " ...\n",
      " [0.90991951 0.84226491 0.8913725  ... 1.         0.86685092 0.88326791]\n",
      " [0.82913994 0.97323939 0.83339596 ... 0.86685092 1.         0.80932061]\n",
      " [0.77672171 0.78838225 0.78083487 ... 0.88326791 0.80932061 1.        ]]\n",
      "15.00718369095469\n"
     ]
    }
   ],
   "source": [
    "#!/usr/bin/env python\n",
    "from __future__ import print_function\n",
    "import numpy as np\n",
    "\n",
    "import qml\n",
    "from qml.kernels import gaussian_kernel\n",
    "from qml.math import cho_solve\n",
    "\n",
    "from tutorial_data import compounds\n",
    "from tutorial_data import energy_pbe0\n",
    "from tutorial_data import energy_delta\n",
    "\n",
    "if __name__ == \"__main__\":\n",
    "\n",
    "    # For every compound generate a coulomb matrix\n",
    "    for mol in compounds:\n",
    "\n",
    "        mol.generate_coulomb_matrix(size=23, sorting=\"row-norm\")\n",
    "        # mol.generate_bob(size=23, asize={\"O\":3, \"C\":7, \"N\":3, \"H\":16, \"S\":1})\n",
    "            \n",
    "\n",
    "    # Make a big 2D array with all the \n",
    "    X = np.array([mol.representation for mol in compounds], dtype=np.float32)\n",
    "    energy_pbe0 = np.array(energy_pbe0,  dtype=np.float32)\n",
    "    # X = np.array([mol.bob for mol in compounds])\n",
    "\n",
    "    print(energy_pbe0)\n",
    "\n",
    "    # Assign 1000 first molecules to the training set\n",
    "    X_training = X[:1000]\n",
    "    Y_training = energy_pbe0[:1000]\n",
    "\n",
    "    # Y_training = energy_delta[:1000]\n",
    "\n",
    "    # Assign 1000 first molecules to the training set\n",
    "    X_test = X[-1000:]\n",
    "    Y_test = energy_pbe0[-1000:]\n",
    "    # Y_test = energy_delta[-1000:]\n",
    "   \n",
    "    # Calculate the Gaussian kernel\n",
    "    sigma = 100 #700.0\n",
    "    K = gaussian_kernel(X_training, X_training, sigma)\n",
    "    print(K)\n",
    "\n",
    "    # Add a small lambda to the diagonal of the kernel matrix\n",
    "    K[np.diag_indices_from(K)] += 1e-8\n",
    "\n",
    "    # Use the built-in Cholesky-decomposition to solve\n",
    "    alpha = cho_solve(K, Y_training) \n",
    "\n",
    "    #print(alpha)\n",
    "\n",
    "    # Assign 1000 last molecules to the test set\n",
    "    X_test = X[-1000:]\n",
    "    Y_test = energy_pbe0[-1000:]\n",
    "\n",
    "    # calculate a kernel matrix between test and training data, using the same sigma\n",
    "    Ks = gaussian_kernel(X_test, X_training, sigma)\n",
    "\n",
    "    # Make the predictions\n",
    "    Y_predicted = np.dot(Ks, alpha)\n",
    "\n",
    "    # Calculate mean-absolute-error (MAE):\n",
    "    print(np.mean(np.abs(Y_predicted - Y_test)))\n"
   ]
  }
 ],
 "metadata": {
  "kernelspec": {
   "display_name": "Python 3",
   "language": "python",
   "name": "python3"
  },
  "language_info": {
   "codemirror_mode": {
    "name": "ipython",
    "version": 3
   },
   "file_extension": ".py",
   "mimetype": "text/x-python",
   "name": "python",
   "nbconvert_exporter": "python",
   "pygments_lexer": "ipython3",
   "version": "3.8.5"
  }
 },
 "nbformat": 4,
 "nbformat_minor": 4
}
